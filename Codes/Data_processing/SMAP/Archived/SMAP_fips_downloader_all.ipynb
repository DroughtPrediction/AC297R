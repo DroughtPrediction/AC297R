{
 "cells": [
  {
   "cell_type": "code",
   "execution_count": 1,
   "metadata": {
    "id": "yoXsMI68utCF"
   },
   "outputs": [],
   "source": [
    "# !pip install geopandas\n",
    "# !pip install mapclassify\n",
    "# !pip install rasterio"
   ]
  },
  {
   "cell_type": "code",
   "execution_count": 2,
   "metadata": {
    "id": "okmP1mcbu3xv"
   },
   "outputs": [],
   "source": [
    "import pandas as pd\n",
    "import numpy as np\n",
    "import datetime\n",
    "import matplotlib.pyplot as plt\n",
    "import geopandas as gp\n",
    "import folium\n",
    "import geopandas\n",
    "import mapclassify\n",
    "import zipfile\n",
    "import requests\n",
    "import xml.etree.ElementTree as ET\n",
    "import rasterio\n",
    "from rasterio.plot import show\n",
    "from tqdm import tqdm"
   ]
  },
  {
   "cell_type": "code",
   "execution_count": 3,
   "metadata": {
    "colab": {
     "base_uri": "https://localhost:8080/"
    },
    "id": "nGlKARFAyXxT",
    "outputId": "cab1e5f8-5604-4c5e-cfcc-cea952843604"
   },
   "outputs": [
    {
     "name": "stdout",
     "output_type": "stream",
     "text": [
      "mkdir: cannot create directory ‘fip_tif’: File exists\n"
     ]
    }
   ],
   "source": [
    "!mkdir 'fip_tif'"
   ]
  },
  {
   "cell_type": "code",
   "execution_count": 4,
   "metadata": {
    "colab": {
     "base_uri": "https://localhost:8080/"
    },
    "id": "kvjwQZC3u4qE",
    "outputId": "ccbe7247-e9bb-45dd-880e-7f2d13596b64"
   },
   "outputs": [
    {
     "name": "stdout",
     "output_type": "stream",
     "text": [
      "383 counties left\n"
     ]
    }
   ],
   "source": [
    "# skip is the last county already downloaded\n",
    "num_weeks = 376\n",
    "skip = 67\n",
    "base = datetime.date.fromisoformat('2022-02-22')\n",
    "date_list = [base - datetime.timedelta(weeks=(x)) for x in range(num_weeks)]\n",
    "\n",
    "# add 0-padding to county FIPS\n",
    "county_list = pd.read_csv('https://raw.githubusercontent.com/hohohohia/misc/main/County_450.csv')['county'].astype(str)[skip:]\n",
    "county_list = [x.zfill(5) for x in county_list]\n",
    "\n",
    "# Number of counties left in list\n",
    "print(len(county_list),'counties left')"
   ]
  },
  {
   "cell_type": "code",
   "execution_count": 14,
   "metadata": {
    "id": "6hItkvl66AKD"
   },
   "outputs": [],
   "source": [
    "county_list1 = county_list[:100]\n",
    "county_list2 = county_list[100:200]\n",
    "county_list3 = county_list[200:300]\n",
    "county_list4 = county_list[300:]"
   ]
  },
  {
   "cell_type": "code",
   "execution_count": 15,
   "metadata": {
    "id": "07h3IDGhvcyF"
   },
   "outputs": [],
   "source": [
    "def get_SMAP_image(date, fip):\n",
    "    fip = fip\n",
    "    date = date\n",
    "    date_str = datetime.datetime.strptime(date, '%Y.%m.%d').date().strftime('%Y-%m-%d')\n",
    "\n",
    "    url = f'https://cloud.csiss.gmu.edu/smap_service?service=WPS&version=1.0.0&request=Execute&identifier=GetFileByFips&DataInputs=layer=SMAP-9KM-DAILY-SUB_{date}_AVERAGE;fips={fip}'\n",
    "\n",
    "    r = requests.get(url)\n",
    "\n",
    "    response_xml_as_string = r.text\n",
    "    responseXml = ET.fromstring(response_xml_as_string)\n",
    "\n",
    "    tif_url = responseXml[2][0][3][0].text\n",
    "    \n",
    "    !wget $tif_url -O $'fip_tif/{fip}_{date_str}.tif' -q --no-check-certificate\n",
    "    # !cp 'fip_tif/06019_2019-01-01.tif' '/content/gdrive/My Drive/fip_tif/06019_2019-01-01.tif'\n",
    "\n",
    "\n",
    "    return rasterio.open(f'fip_tif/{fip}_{date_str}.tif').read()"
   ]
  },
  {
   "cell_type": "code",
   "execution_count": null,
   "metadata": {
    "colab": {
     "base_uri": "https://localhost:8080/"
    },
    "id": "1yreReaJvVXI",
    "outputId": "3819f09f-c60f-4813-891a-fd11b82d5637"
   },
   "outputs": [
    {
     "name": "stderr",
     "output_type": "stream",
     "text": [
      "100%|██████████| 376/376 [02:48<00:00,  2.23it/s]\n",
      "100%|██████████| 376/376 [02:48<00:00,  2.24it/s]\n",
      "100%|██████████| 376/376 [02:48<00:00,  2.23it/s]\n",
      "100%|██████████| 376/376 [02:59<00:00,  2.09it/s]\n",
      "100%|██████████| 376/376 [03:02<00:00,  2.06it/s]\n",
      "100%|██████████| 376/376 [03:50<00:00,  1.63it/s]\n",
      "100%|██████████| 376/376 [03:04<00:00,  2.04it/s]\n",
      " 24%|██▍       | 91/376 [00:43<02:19,  2.04it/s]"
     ]
    }
   ],
   "source": [
    "data_by_FIP = pd.DataFrame()\n",
    "data_by_FIP['Dates'] = date_list\n",
    "temp_data = []\n",
    "\n",
    "for j, county in enumerate(county_list1):\n",
    "    for i in tqdm(range(num_weeks)):\n",
    "        try:\n",
    "            im = get_SMAP_image(date_list[i].strftime('%Y.%m.%d'), county)\n",
    "            temp_data.append(im[im > -9999].mean())\n",
    "        except:\n",
    "            temp_data.append(-9999)\n",
    "            continue\n",
    "    data_by_FIP[county] = temp_data\n",
    "    data_by_FIP.to_csv(f'smap_test_avgs_{j+skip}_counties.csv')\n",
    "    temp_data = []\n"
   ]
  },
  {
   "cell_type": "code",
   "execution_count": null,
   "metadata": {
    "id": "3Na7NsPUvVZN"
   },
   "outputs": [],
   "source": []
  },
  {
   "cell_type": "code",
   "execution_count": null,
   "metadata": {
    "id": "nsZSH4ppu4sT"
   },
   "outputs": [],
   "source": []
  },
  {
   "cell_type": "code",
   "execution_count": null,
   "metadata": {
    "id": "wsEgHTFju4un"
   },
   "outputs": [],
   "source": []
  },
  {
   "cell_type": "code",
   "execution_count": null,
   "metadata": {
    "id": "5Sxh7HJ8u4w2"
   },
   "outputs": [],
   "source": []
  },
  {
   "cell_type": "code",
   "execution_count": null,
   "metadata": {
    "id": "KdDQK-wyu4y8"
   },
   "outputs": [],
   "source": []
  }
 ],
 "metadata": {
  "colab": {
   "collapsed_sections": [],
   "name": "SMAP_fips_downloader1.ipynb",
   "provenance": []
  },
  "kernelspec": {
   "display_name": "Python 3 (ipykernel)",
   "language": "python",
   "name": "python3"
  },
  "language_info": {
   "codemirror_mode": {
    "name": "ipython",
    "version": 3
   },
   "file_extension": ".py",
   "mimetype": "text/x-python",
   "name": "python",
   "nbconvert_exporter": "python",
   "pygments_lexer": "ipython3",
   "version": "3.9.7"
  }
 },
 "nbformat": 4,
 "nbformat_minor": 1
}
