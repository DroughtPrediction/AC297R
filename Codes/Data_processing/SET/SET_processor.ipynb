{
 "cells": [
  {
   "cell_type": "markdown",
   "id": "35fc23ea",
   "metadata": {
    "id": "2b8eee65"
   },
   "source": [
    "# SET (grib file)"
   ]
  },
  {
   "cell_type": "code",
   "execution_count": null,
   "id": "67926953",
   "metadata": {
    "colab": {
     "base_uri": "https://localhost:8080/"
    },
    "executionInfo": {
     "elapsed": 1219,
     "status": "ok",
     "timestamp": 1647061152308,
     "user": {
      "displayName": "null null",
      "photoUrl": "https://lh3.googleusercontent.com/a/default-user=s64",
      "userId": "09952437175143986586"
     },
     "user_tz": 300
    },
    "id": "0fddd3cb",
    "outputId": "8ae2c380-02b1-4778-ebd9-c21ac26a627f"
   },
   "outputs": [],
   "source": [
    "!pip install -q condacolab\n",
    "import condacolab\n",
    "condacolab.install()"
   ]
  },
  {
   "cell_type": "code",
   "execution_count": null,
   "id": "1ad8ecd1",
   "metadata": {
    "id": "wnhz1yd1885p"
   },
   "outputs": [],
   "source": [
    "%%capture\n",
    "!conda update conda"
   ]
  },
  {
   "cell_type": "code",
   "execution_count": null,
   "id": "9b9f3211",
   "metadata": {
    "colab": {
     "base_uri": "https://localhost:8080/"
    },
    "executionInfo": {
     "elapsed": 239,
     "status": "ok",
     "timestamp": 1647061174154,
     "user": {
      "displayName": "null null",
      "photoUrl": "https://lh3.googleusercontent.com/a/default-user=s64",
      "userId": "09952437175143986586"
     },
     "user_tz": 300
    },
    "id": "X4cWWC3j869U",
    "outputId": "7f377772-8c3b-4477-9137-9074ffa53e12"
   },
   "outputs": [],
   "source": [
    "!conda --version\n",
    "!which conda"
   ]
  },
  {
   "cell_type": "code",
   "execution_count": null,
   "id": "ce3af0e0",
   "metadata": {
    "colab": {
     "base_uri": "https://localhost:8080/"
    },
    "executionInfo": {
     "elapsed": 22835,
     "status": "ok",
     "timestamp": 1647061196981,
     "user": {
      "displayName": "null null",
      "photoUrl": "https://lh3.googleusercontent.com/a/default-user=s64",
      "userId": "09952437175143986586"
     },
     "user_tz": 300
    },
    "id": "f950218f",
    "outputId": "386af996-69b7-407f-9e96-90d975d78231"
   },
   "outputs": [],
   "source": [
    "#%%capture\n",
    "!conda install metview  -c conda-forge\n",
    "!conda install metview-python  -c conda-forge"
   ]
  },
  {
   "cell_type": "code",
   "execution_count": null,
   "id": "4200f7db",
   "metadata": {
    "colab": {
     "base_uri": "https://localhost:8080/"
    },
    "executionInfo": {
     "elapsed": 769,
     "status": "ok",
     "timestamp": 1647061197713,
     "user": {
      "displayName": "null null",
      "photoUrl": "https://lh3.googleusercontent.com/a/default-user=s64",
      "userId": "09952437175143986586"
     },
     "user_tz": 300
    },
    "id": "mSNv5onhBvgq",
    "outputId": "7ef6894b-308d-40de-d04a-135e394506e2"
   },
   "outputs": [],
   "source": [
    "!pip install opencage"
   ]
  },
  {
   "cell_type": "code",
   "execution_count": null,
   "id": "b0cb84d6",
   "metadata": {
    "id": "QUyCOOKge9o5"
   },
   "outputs": [],
   "source": [
    "# import os\n",
    "# os._exit(00)"
   ]
  },
  {
   "cell_type": "code",
   "execution_count": null,
   "id": "7006a688",
   "metadata": {
    "colab": {
     "base_uri": "https://localhost:8080/"
    },
    "executionInfo": {
     "elapsed": 834,
     "status": "ok",
     "timestamp": 1647061198537,
     "user": {
      "displayName": "null null",
      "photoUrl": "https://lh3.googleusercontent.com/a/default-user=s64",
      "userId": "09952437175143986586"
     },
     "user_tz": 300
    },
    "id": "mY84Y4C49JqP",
    "outputId": "066cee41-b462-4256-e9c6-489851759711"
   },
   "outputs": [],
   "source": [
    "from google.colab import drive\n",
    "drive.mount('/content/drive')"
   ]
  },
  {
   "cell_type": "code",
   "execution_count": null,
   "id": "d9ea66cc",
   "metadata": {
    "id": "725fa8bd"
   },
   "outputs": [],
   "source": [
    "import metview as mv\n",
    "import numpy as np\n",
    "import pandas as pd\n",
    "#from opencage.geocoder import OpenCageGeocode\n",
    "from tqdm import tqdm"
   ]
  },
  {
   "cell_type": "code",
   "execution_count": null,
   "id": "d747f6ab",
   "metadata": {
    "colab": {
     "base_uri": "https://localhost:8080/"
    },
    "executionInfo": {
     "elapsed": 416238,
     "status": "ok",
     "timestamp": 1647061615890,
     "user": {
      "displayName": "null null",
      "photoUrl": "https://lh3.googleusercontent.com/a/default-user=s64",
      "userId": "09952437175143986586"
     },
     "user_tz": 300
    },
    "id": "FU1_ATnPfT5P",
    "outputId": "fa8b17d0-bbb7-43cb-a065-69c65e53abd7"
   },
   "outputs": [],
   "source": [
    "!wget 'https://raw.githubusercontent.com/hohohohia/misc/main/county_coord.npy'\n",
    "!unzip 'drive/MyDrive/HWs/SETdaily.zip' -d './'\n",
    "county_list_2d=pd.read_csv('drive/MyDrive/HWs/County_450.csv')\n",
    "\n",
    "# after unzipped the SETdaily.zip, unmount the drive\n",
    "drive.flush_and_unmount()"
   ]
  },
  {
   "cell_type": "code",
   "execution_count": null,
   "id": "34657546",
   "metadata": {
    "colab": {
     "base_uri": "https://localhost:8080/"
    },
    "executionInfo": {
     "elapsed": 152101,
     "status": "ok",
     "timestamp": 1647061767963,
     "user": {
      "displayName": "null null",
      "photoUrl": "https://lh3.googleusercontent.com/a/default-user=s64",
      "userId": "09952437175143986586"
     },
     "user_tz": 300
    },
    "id": "4e6a2213",
    "outputId": "6116834c-ccb7-4677-c5e2-8eee7b7f22b2"
   },
   "outputs": [],
   "source": [
    "filename = './SETdaily.grib'\n",
    "if mv.exist(filename):\n",
    "    wg = mv.read(filename)\n",
    "else:\n",
    "    wg = mv.gallery.load_dataset(filename)\n",
    "print(wg)\n",
    "print(len(wg))"
   ]
  },
  {
   "cell_type": "code",
   "execution_count": null,
   "id": "5fd89bf3",
   "metadata": {
    "colab": {
     "base_uri": "https://localhost:8080/"
    },
    "executionInfo": {
     "elapsed": 46,
     "status": "ok",
     "timestamp": 1647061767964,
     "user": {
      "displayName": "null null",
      "photoUrl": "https://lh3.googleusercontent.com/a/default-user=s64",
      "userId": "09952437175143986586"
     },
     "user_tz": 300
    },
    "id": "0ZJ39Xo5xRa4",
    "outputId": "0291580b-dea7-4b0d-a8a9-57d5ba9f5133"
   },
   "outputs": [],
   "source": [
    "county_list=county_list_2d.county.to_numpy()\n",
    "county_list[:5]"
   ]
  },
  {
   "cell_type": "code",
   "execution_count": null,
   "id": "9a9c9263",
   "metadata": {
    "id": "ce25a9a6"
   },
   "outputs": [],
   "source": [
    "def county_coords_getter(county_list=county_list):\n",
    "  county_dic=pd.read_csv('https://raw.githubusercontent.com/hohohohia/misc/main/fips.csv',delimiter=',')\n",
    "  county_dic=county_dic.to_numpy()\n",
    "  county_dic={i[0]:str(i[1])+', '+str(i[2]) for i in county_dic}\n",
    "  target=[[j,county_dic[j]] for j in county_list]\n",
    "  key = 'e969ca058ef8475691c5d75f9e1c20fa'\n",
    "  geocoder = OpenCageGeocode(key)\n",
    "  target_coords=[]\n",
    "  for i in tqdm(range(len(target))):\n",
    "    query = target[i][1]\n",
    "    results = geocoder.geocode(query)\n",
    "    lat = results[0]['geometry']['lat']\n",
    "    lng = results[0]['geometry']['lng']\n",
    "    target_coords.append([query,lat,lng])\n",
    "    #if i==20: break\n",
    "  return target_coords"
   ]
  },
  {
   "cell_type": "code",
   "execution_count": null,
   "id": "f2e20e37",
   "metadata": {
    "id": "3ded131c"
   },
   "outputs": [],
   "source": [
    "toggle=False\n",
    "if toggle==True: \n",
    "  target_coords=county_coords_getter()\n",
    "else:\n",
    "  target_coords=np.load('county_coord.npy')"
   ]
  },
  {
   "cell_type": "code",
   "execution_count": null,
   "id": "b69e9b76",
   "metadata": {
    "colab": {
     "base_uri": "https://localhost:8080/"
    },
    "executionInfo": {
     "elapsed": 43,
     "status": "ok",
     "timestamp": 1647061767971,
     "user": {
      "displayName": "null null",
      "photoUrl": "https://lh3.googleusercontent.com/a/default-user=s64",
      "userId": "09952437175143986586"
     },
     "user_tz": 300
    },
    "id": "HrymNXgQ2CT0",
    "outputId": "4fea2b6f-7b43-4458-8798-f28cc122ca77"
   },
   "outputs": [],
   "source": [
    "print(target_coords[:5])\n",
    "coords=[[i[1],i[2]] for i in target_coords]"
   ]
  },
  {
   "cell_type": "code",
   "execution_count": null,
   "id": "1a8ef1a6",
   "metadata": {
    "id": "98fc97af"
   },
   "outputs": [],
   "source": [
    "def ts_gen(coord,df=False):\n",
    "  roff = np.array(mv.nearest_gridpoint(wg['ro'], coord))\n",
    "  evap = np.array(mv.nearest_gridpoint(wg['e'], coord))\n",
    "  times = mv.valid_date(wg['ro'])\n",
    "  if df==True:\n",
    "    df=pd.DataFrame(zip(times,roff,evap),columns=['time','run_off','evaporation'])\n",
    "    return times, roff, evap, df\n",
    "  else: \n",
    "    return roff, evap\n",
    "\n",
    "def mat_gen(coords):\n",
    "  result=[]\n",
    "  v=0\n",
    "  for i in tqdm(coords):\n",
    "    if v==0:\n",
    "      i=[float(i[0]),float(i[1])]\n",
    "      print(i)\n",
    "      result.append(mv.valid_date(wg['ro']))\n",
    "      cache1=ts_gen(i)\n",
    "      result.append(cache1[0])\n",
    "      result.append(cache1[1])\n",
    "    else: \n",
    "      i=[float(i[0]),float(i[1])]\n",
    "      cache1=ts_gen(i)\n",
    "      result.append(cache1[0])\n",
    "      result.append(cache1[1])\n",
    "    v=1\n",
    "  return result"
   ]
  },
  {
   "cell_type": "code",
   "execution_count": null,
   "id": "7ae04c93",
   "metadata": {
    "colab": {
     "background_save": true,
     "base_uri": "https://localhost:8080/"
    },
    "id": "149e3093"
   },
   "outputs": [],
   "source": [
    "matrix_=mat_gen(coords)"
   ]
  },
  {
   "cell_type": "code",
   "execution_count": null,
   "id": "9dbdcc80",
   "metadata": {
    "id": "e6079d79"
   },
   "outputs": [],
   "source": [
    "column_name=[]\n",
    "v=0\n",
    "for i in county_list:\n",
    "  if v==0: \n",
    "      column_name.append('time')\n",
    "  for j in range(2):\n",
    "      if j==0: column_name.append(str(i)+'_roff')\n",
    "      else: column_name.append(str(i)+'_evap')\n",
    "  v=1"
   ]
  },
  {
   "cell_type": "code",
   "execution_count": null,
   "id": "a28c92d1",
   "metadata": {
    "id": "51cec714"
   },
   "outputs": [],
   "source": [
    "cache=pd.DataFrame(data=np.transpose(matrix_),columns=column_name)\n",
    "cache.to_csv('SET.csv')"
   ]
  },
  {
   "cell_type": "code",
   "execution_count": null,
   "id": "d86d6606",
   "metadata": {
    "id": "44d8b664"
   },
   "outputs": [],
   "source": []
  }
 ],
 "metadata": {
  "accelerator": "TPU",
  "colab": {
   "background_execution": "on",
   "collapsed_sections": [],
   "machine_shape": "hm",
   "name": "SETprocessor.ipynb",
   "version": ""
  },
  "kernelspec": {
   "display_name": "Python 3 (ipykernel)",
   "language": "python",
   "name": "python3"
  },
  "language_info": {
   "codemirror_mode": {
    "name": "ipython",
    "version": 3
   },
   "file_extension": ".py",
   "mimetype": "text/x-python",
   "name": "python",
   "nbconvert_exporter": "python",
   "pygments_lexer": "ipython3",
   "version": "3.9.7"
  }
 },
 "nbformat": 4,
 "nbformat_minor": 5
}
